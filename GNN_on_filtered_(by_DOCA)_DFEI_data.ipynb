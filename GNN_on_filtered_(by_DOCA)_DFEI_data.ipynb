{
  "nbformat": 4,
  "nbformat_minor": 0,
  "metadata": {
    "colab": {
      "provenance": [],
      "machine_shape": "hm"
    },
    "kernelspec": {
      "name": "python3",
      "display_name": "Python 3"
    },
    "language_info": {
      "name": "python"
    },
    "accelerator": "GPU",
    "gpuClass": "standard"
  },
  "cells": [
    {
      "cell_type": "code",
      "source": [
        "from google.colab import drive\n",
        "drive.mount('/content/drive')"
      ],
      "metadata": {
        "id": "sUx1lDD27-Y6"
      },
      "execution_count": null,
      "outputs": []
    },
    {
      "cell_type": "code",
      "execution_count": null,
      "metadata": {
        "id": "nuGMiWS-xmxg"
      },
      "outputs": [],
      "source": [
        "!pip install uproot"
      ]
    },
    {
      "cell_type": "code",
      "source": [
        "!pip install --target=$nb_path -q torch-scatter -f https://pytorch-geometric.com/whl/torch-1.7.0+cu101.html\n",
        "!pip install --target=$nb_path -q torch-sparse -f https://pytorch-geometric.com/whl/torch-1.7.0+cu101.html\n",
        "!pip install --target=$nb_path -q torch-geometric"
      ],
      "metadata": {
        "id": "DYHOzRzey66v"
      },
      "execution_count": null,
      "outputs": []
    },
    {
      "cell_type": "code",
      "source": [
        "!pip install --target=$nb_path -q torch-cluster -f https://pytorch-geometric.com/whl/torch-1.7.0+cu101.html"
      ],
      "metadata": {
        "id": "6kATtPp5qjQC"
      },
      "execution_count": null,
      "outputs": []
    },
    {
      "cell_type": "code",
      "source": [
        "import torch\n",
        "import torch.nn as nn\n",
        "import torch.nn.functional as F\n",
        "\n",
        "import torch_geometric.nn as pyg_nn\n",
        "import torch_geometric.utils as pyg_utils\n",
        "\n",
        "import time\n",
        "from datetime import datetime\n",
        "\n",
        "import networkx as nx\n",
        "import numpy as np\n",
        "import torch\n",
        "import torch.optim as optim\n",
        "\n",
        "from torch_geometric.datasets import TUDataset\n",
        "from torch_geometric.datasets import Planetoid\n",
        "from torch_geometric.data import DataLoader\n",
        "\n",
        "import torch_geometric.transforms as T\n",
        "\n",
        "from sklearn.manifold import TSNE\n",
        "import matplotlib.pyplot as plt\n",
        "import pickle\n",
        "import torch_cluster\n",
        "from torch_geometric.nn import GravNetConv"
      ],
      "metadata": {
        "id": "bnbpkwjty9A9"
      },
      "execution_count": null,
      "outputs": []
    },
    {
      "cell_type": "code",
      "source": [
        "# getting the data\n",
        "\n",
        "with open('/content/drive/MyDrive/IRIS-HEP_DFEI/list_of_graphs_from_filtered_data_k5_training.pickle', 'rb') as f:\n",
        "    list_of_graphs_training = pickle.load(f)\n",
        "\n",
        "with open('/content/drive/MyDrive/IRIS-HEP_DFEI/list_of_graphs_from_filtered_data_k5_testing.pickle', 'rb') as f:\n",
        "    list_of_graphs_testing = pickle.load(f)"
      ],
      "metadata": {
        "id": "9oI1EhGAhYXJ"
      },
      "execution_count": null,
      "outputs": []
    },
    {
      "cell_type": "code",
      "source": [
        "class MyModel(nn.Module):\n",
        "    def __init__(self):\n",
        "        super(MyModel, self).__init__()\n",
        "\n",
        "        self.lin_00 = nn.Linear(in_features=13, out_features=64)\n",
        "        self.ln_00 = nn.LayerNorm(64)\n",
        "        self.lin_01 = nn.Linear(in_features=64, out_features=128)\n",
        "        self.ln_01 = nn.LayerNorm(128)\n",
        "        self.lin_02 = nn.Linear(in_features=128, out_features=13)\n",
        "        self.ln_02 = nn.LayerNorm(13)\n",
        "\n",
        "        self.conv1 = pyg_nn.GCNConv(in_channels=13, out_channels=13)\n",
        "        self.conv2 = pyg_nn.GCNConv(in_channels=13, out_channels=13)\n",
        "\n",
        "        self.gravnet1 = GravNetConv(in_channels=13, out_channels=13, space_dimensions=8, propagate_dimensions=7, k=5)\n",
        "        self.gravnet2 = GravNetConv(in_channels=13, out_channels=13, space_dimensions=8, propagate_dimensions=7, k=5)\n",
        "\n",
        "        self.lin1 = nn.Linear(in_features=13, out_features=256)\n",
        "        self.ln1 = nn.LayerNorm(256)\n",
        "\n",
        "        self.lin2 = nn.Linear(in_features=256, out_features=256)\n",
        "        self.ln2 = nn.LayerNorm(256)\n",
        "\n",
        "        self.lin3 = nn.Linear(in_features=256, out_features=1)\n",
        "\n",
        "        self.relu = F.relu\n",
        "        self.sigmoid = torch.sigmoid\n",
        "        \n",
        "    def forward(self, data):\n",
        "\n",
        "        x = self.lin_00(data.x)\n",
        "        x = self.relu(x)\n",
        "        x = self.ln_00(x)\n",
        "        x = self.lin_01(x)\n",
        "        x = self.relu(x)\n",
        "        x = self.ln_01(x)\n",
        "        x = self.lin_02(x)\n",
        "        x = self.relu(x)\n",
        "        x = self.ln_02(x)\n",
        "        \n",
        "        # x = self.gravnet1(x)\n",
        "        x = self.conv1(x=x, edge_index=data.edge_index)\n",
        "        x = self.relu(x)\n",
        "        \n",
        "        # x = self.gravnet2(x)\n",
        "        # x = self.conv2(x=x, edge_index=data.edge_index)\n",
        "        # x = self.relu(x)\n",
        "\n",
        "        x = self.lin1(x)\n",
        "        x = self.relu(x)\n",
        "        x = self.ln1(x)\n",
        "\n",
        "        x = self.lin2(x)\n",
        "        x = self.relu(x)\n",
        "        x = self.ln2(x)\n",
        "\n",
        "        x = self.lin3(x)\n",
        "\n",
        "        out = self.sigmoid(x)\n",
        "\n",
        "        return out"
      ],
      "metadata": {
        "id": "qg_pY9fNMZJ8"
      },
      "execution_count": null,
      "outputs": []
    },
    {
      "cell_type": "code",
      "source": [
        "learning_rate = 0.01\n",
        "num_epochs = 150\n",
        "\n",
        "device = torch.device(\"cuda:0\" if torch.cuda.is_available() else \"cpu\")\n",
        "model = MyModel()\n",
        "model = model.to(device)\n",
        "criterion = torch.nn.BCELoss()\n",
        "optimizer = torch.optim.Adam(model.parameters(), lr=learning_rate)"
      ],
      "metadata": {
        "id": "u5RSfrU_c4G4"
      },
      "execution_count": null,
      "outputs": []
    },
    {
      "cell_type": "code",
      "source": [
        "accs = []\n",
        "losses = []\n",
        "\n",
        "for epoch in range(num_epochs):\n",
        "    correct = 0\n",
        "    total = 0\n",
        "    total_loss = 0\n",
        "    model.train()\n",
        "\n",
        "    for graph in list_of_graphs_training:\n",
        "\n",
        "        optimizer.zero_grad()\n",
        "        graph.to(device)\n",
        "        preds = model(graph)\n",
        "        labels = graph.y\n",
        "        loss = criterion(preds, labels)\n",
        "        loss.backward()\n",
        "\n",
        "        optimizer.step()\n",
        "\n",
        "        total_loss += loss.item()\n",
        "        correct += sum(abs((torch.round(preds) - labels)))\n",
        "        total += graph.num_nodes\n",
        "    \n",
        "    accuracy = 1 - correct.item() / total\n",
        "    total_loss /= len(list_of_graphs_training)\n",
        "    accs.append(accuracy)\n",
        "    losses.append(total_loss)\n",
        "    print('Epoch: %d | Loss: %.8f | Train Accuracy: %.8f' \\\n",
        "          %(epoch, total_loss, accuracy))"
      ],
      "metadata": {
        "id": "IgTRUvIbfLna"
      },
      "execution_count": null,
      "outputs": []
    },
    {
      "cell_type": "code",
      "source": [
        "model_name = \"GCNConv\"\n",
        "model_name_cat = \"GCNConv\""
      ],
      "metadata": {
        "id": "_PsOwpc7sn2f"
      },
      "execution_count": null,
      "outputs": []
    },
    {
      "cell_type": "code",
      "source": [
        "preds = []\n",
        "labels = []\n",
        "\n",
        "for graph in list_of_graphs_testing:\n",
        "  graph.to(device)\n",
        "  pred = model(graph)\n",
        "  label = graph.y\n",
        "  preds.append(pred)\n",
        "  labels.append(label)"
      ],
      "metadata": {
        "id": "GggtsA8JeLeV"
      },
      "execution_count": null,
      "outputs": []
    },
    {
      "cell_type": "code",
      "source": [
        "preds = torch.cat(preds).to(\"cpu\").detach().numpy()\n",
        "labels = torch.cat(labels).to(\"cpu\").detach().numpy()"
      ],
      "metadata": {
        "id": "Usxkfr1xnodZ"
      },
      "execution_count": null,
      "outputs": []
    },
    {
      "cell_type": "code",
      "source": [
        "plt.title(f\"{model_name}\")\n",
        "plt.plot(losses, label=\"training loss\")\n",
        "plt.plot(accs, label=\"training accuracy\")\n",
        "plt.legend()"
      ],
      "metadata": {
        "id": "W4yYzSRjr5IT"
      },
      "execution_count": null,
      "outputs": []
    },
    {
      "cell_type": "code",
      "source": [
        "from sklearn.metrics import roc_curve\n",
        "from sklearn.metrics import auc\n",
        "\n",
        "fpr_keras, tpr_keras, thresholds_keras = roc_curve(labels, preds)\n",
        "auc_keras = auc(fpr_keras, tpr_keras)\n",
        "\n",
        "plt.figure(1)\n",
        "plt.plot([0, 1], [0, 1], 'k--')\n",
        "plt.plot(fpr_keras, tpr_keras, label='(AUC = {:.3f})'.format(auc_keras))\n",
        "plt.xlabel('False positive rate')\n",
        "plt.ylabel('True positive rate')\n",
        "plt.title(f'ROC curve ({model_name})')\n",
        "plt.legend(loc='best')\n",
        "plt.show()"
      ],
      "metadata": {
        "id": "9ppCpf1Ii8No"
      },
      "execution_count": null,
      "outputs": []
    },
    {
      "cell_type": "code",
      "source": [
        "from sklearn.metrics import precision_recall_curve, f1_score, auc\n",
        "\n",
        "precision, recall, thresholds = precision_recall_curve(labels, preds)\n",
        "auc = auc(recall, precision)\n",
        "\n",
        "no_skill = len(labels[labels==1]) / len(labels)\n",
        "plt.plot([0, 1], [no_skill, no_skill], linestyle='--', label='No Skill')\n",
        "plt.plot(recall, precision, marker='.', label=f'{model_name}')\n",
        "plt.xlabel('Recall')\n",
        "plt.ylabel('Precision')\n",
        "plt.text(0.8, 0.8, '(AUC = {:.3f})'.format(auc))\n",
        "plt.title(f\"{model_name} precision-recall curve\")\n",
        "plt.legend()\n",
        "plt.show()"
      ],
      "metadata": {
        "id": "qu5n78m1vBdQ"
      },
      "execution_count": null,
      "outputs": []
    },
    {
      "cell_type": "code",
      "source": [
        "torch.save(model.state_dict(), f'/content/drive/MyDrive/IRIS-HEP_DFEI/{model_name_cat}_150epochs_first_save.pickle')"
      ],
      "metadata": {
        "id": "c3qOuVIj-yEx"
      },
      "execution_count": null,
      "outputs": []
    },
    {
      "cell_type": "code",
      "source": [
        "with open(f'/content/drive/MyDrive/IRIS-HEP_DFEI/{model_name_cat}_150epochs_first_save_accs.pickle', 'wb') as handle:\n",
        "    pickle.dump(accs, handle, protocol=pickle.HIGHEST_PROTOCOL)\n",
        "\n",
        "with open(f'/content/drive/MyDrive/IRIS-HEP_DFEI/{model_name_cat}_150epochs_first_save_losses.pickle', 'wb') as handle:\n",
        "    pickle.dump(losses, handle, protocol=pickle.HIGHEST_PROTOCOL)"
      ],
      "metadata": {
        "id": "mAIUa9Uw-yM7"
      },
      "execution_count": null,
      "outputs": []
    }
  ]
}