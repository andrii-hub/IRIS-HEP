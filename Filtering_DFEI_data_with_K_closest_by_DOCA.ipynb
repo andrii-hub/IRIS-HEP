{
  "nbformat": 4,
  "nbformat_minor": 0,
  "metadata": {
    "colab": {
      "provenance": [],
      "machine_shape": "hm",
      "collapsed_sections": []
    },
    "kernelspec": {
      "name": "python3",
      "display_name": "Python 3"
    },
    "language_info": {
      "name": "python"
    },
    "gpuClass": "standard",
    "accelerator": "GPU"
  },
  "cells": [
    {
      "cell_type": "code",
      "execution_count": null,
      "metadata": {
        "id": "wbphWZEF2bUG"
      },
      "outputs": [],
      "source": [
        "!pip install uproot tqdm numexpr google-colab"
      ]
    },
    {
      "cell_type": "code",
      "source": [
        "import uproot\n",
        "import pandas as pd\n",
        "import tqdm\n",
        "from pathlib import Path\n",
        "import numpy as np\n",
        "import numexpr"
      ],
      "metadata": {
        "id": "xdQee79P2tX3"
      },
      "execution_count": null,
      "outputs": []
    },
    {
      "cell_type": "code",
      "source": [
        "from google.colab import drive\n",
        "drive.mount('/content/drive')"
      ],
      "metadata": {
        "colab": {
          "base_uri": "https://localhost:8080/"
        },
        "id": "wyj9xEkJ2uwF",
        "outputId": "ffe5fcc0-345b-4ca4-e777-d996fc6d561b"
      },
      "execution_count": null,
      "outputs": [
        {
          "output_type": "stream",
          "name": "stdout",
          "text": [
            "Mounted at /content/drive\n"
          ]
        }
      ]
    },
    {
      "cell_type": "code",
      "source": [
        "relations_file = uproot.open(\"/content/drive/MyDrive/IRIS-HEP_DFEI/relations_data.root\")"
      ],
      "metadata": {
        "id": "DJYyoNMy21_2"
      },
      "execution_count": null,
      "outputs": []
    },
    {
      "cell_type": "code",
      "source": [
        "relations_tree = relations_file['ParticleRelations']"
      ],
      "metadata": {
        "id": "hhKzTe3v24p_"
      },
      "execution_count": null,
      "outputs": []
    },
    {
      "cell_type": "code",
      "source": [
        "relevant_relations_keys = [\n",
        "                          'DOCA_reco',\n",
        "                          'ExpandedEventNumber',\n",
        "                          'FirstParticleIndex',\n",
        "                          'FromSameAssociatedPV_reco',\n",
        "                          'SecondParticleIndex',\n",
        "                          'delta_z0_reco',\n",
        "                          'p1_isCharged',\n",
        "                          'p2_isCharged',\n",
        "                          'theta_reco',\n",
        "                          'trdist_reco'\n",
        "                          ]"
      ],
      "metadata": {
        "id": "n-0sA39v29_J"
      },
      "execution_count": null,
      "outputs": []
    },
    {
      "cell_type": "code",
      "source": [
        "df_relations = relations_tree.arrays(relevant_relations_keys, library='pd')"
      ],
      "metadata": {
        "id": "CsnhjRFCWRrd"
      },
      "execution_count": null,
      "outputs": []
    },
    {
      "cell_type": "code",
      "source": [
        "num_of_events = df_relations['ExpandedEventNumber'].max()"
      ],
      "metadata": {
        "id": "59XfZf5M3jbH"
      },
      "execution_count": null,
      "outputs": []
    },
    {
      "cell_type": "code",
      "source": [
        "num_of_events = int(num_of_events)"
      ],
      "metadata": {
        "id": "Z-JPKoNxEErZ"
      },
      "execution_count": null,
      "outputs": []
    },
    {
      "cell_type": "code",
      "source": [
        "K = 5"
      ],
      "metadata": {
        "id": "c-rvNvDrG0Vr"
      },
      "execution_count": null,
      "outputs": []
    },
    {
      "cell_type": "code",
      "source": [
        "df_relations.sort_values(by=[\"ExpandedEventNumber\"], inplace=True, ascending=True)"
      ],
      "metadata": {
        "id": "tYBC2xsOrSJ7"
      },
      "execution_count": null,
      "outputs": []
    },
    {
      "cell_type": "code",
      "source": [
        "import time\n",
        "lower_index = 0\n",
        "old_event_number = df_relations.ExpandedEventNumber.iloc[0]\n",
        "sorter = np.arange(0, df_relations.shape[0], step=1)\n",
        "event_nrs = df_relations.ExpandedEventNumber\n",
        "sorted_indices = np.searchsorted(event_nrs, sorter, side=\"right\", sorter=sorter)\n",
        "for event_number in tqdm.tqdm(range(num_of_events)):\n",
        "  start = time.time()\n",
        "  \n",
        "  upper_index = sorted_indices[event_number]\n",
        "  df_r = df_relations.iloc[lower_index:upper_index]\n",
        "  lower_index = upper_index\n",
        "  old_event_number = df_relations.iloc[upper_index]\n",
        "  unique_particle_indexes = pd.concat([df_r['FirstParticleIndex'], df_r['SecondParticleIndex']]).unique()\n",
        "\n",
        "  indices = np.empty(shape=(K * unique_particle_indexes.shape[0],), dtype=np.int64)\n",
        "  first_p_index = df_r.FirstParticleIndex\n",
        "  second_p_index = df_r.SecondParticleIndex\n",
        "\n",
        "  lower_idx = 0  \n",
        "  for i, p_idx in enumerate(unique_particle_indexes):\n",
        "\n",
        "    criterion = numexpr.evaluate(\"(first_p_index == p_idx) | (second_p_index == p_idx)\")\n",
        "    k = K if K < np.count_nonzero(criterion) else np.count_nonzero(criterion)\n",
        "    upper_idx = lower_idx + k\n",
        "    indices[lower_idx: upper_idx] = df_r.loc[criterion].nsmallest(k, \"DOCA_reco\").index\n",
        "    lower_idx = upper_idx\n",
        "  indices = np.unique(indices)\n",
        "  filtered_event_relations_df = df_r.loc[indices]\n",
        "  filename = f'event_{event_number}_top_{K}_relations_filtered_by_DOCA_for_each_particle.csv'\n",
        "  path = f'path_to_folder/{filename}'\n",
        "  filtered_event_relations_df.to_csv(path)"
      ],
      "metadata": {
        "id": "AwTdNU00q_4a",
        "colab": {
          "base_uri": "https://localhost:8080/"
        },
        "outputId": "43f3b533-7a87-4da4-f893-c3fc6cf77e2e"
      },
      "execution_count": null,
      "outputs": [
        {
          "output_type": "stream",
          "name": "stderr",
          "text": [
            "100%|██████████| 6161/6161 [25:31<00:00,  4.02it/s]\n"
          ]
        }
      ]
    }
  ]
}