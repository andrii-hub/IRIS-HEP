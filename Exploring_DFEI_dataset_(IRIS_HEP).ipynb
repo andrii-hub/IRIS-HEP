{
  "cells": [
    {
      "cell_type": "code",
      "execution_count": null,
      "metadata": {
        "colab": {
          "base_uri": "https://localhost:8080/"
        },
        "id": "xsbdbEMeql3S",
        "outputId": "95b83c73-b802-4cbd-b11b-7a65561d8913"
      },
      "outputs": [
        {
          "output_type": "stream",
          "name": "stdout",
          "text": [
            "Looking in indexes: https://pypi.org/simple, https://us-python.pkg.dev/colab-wheels/public/simple/\n",
            "Collecting uproot\n",
            "  Downloading uproot-4.3.3-py2.py3-none-any.whl (302 kB)\n",
            "\u001b[K     |████████████████████████████████| 302 kB 15.0 MB/s \n",
            "\u001b[?25hRequirement already satisfied: numpy in /usr/local/lib/python3.7/dist-packages (from uproot) (1.21.6)\n",
            "Requirement already satisfied: setuptools in /usr/local/lib/python3.7/dist-packages (from uproot) (57.4.0)\n",
            "Installing collected packages: uproot\n",
            "Successfully installed uproot-4.3.3\n"
          ]
        }
      ],
      "source": [
        "!pip install uproot"
      ]
    },
    {
      "cell_type": "code",
      "execution_count": null,
      "metadata": {
        "colab": {
          "base_uri": "https://localhost:8080/"
        },
        "id": "PJm3I0MRI_5g",
        "outputId": "1bde4559-1ab8-4b57-bd1e-6c916025d112"
      },
      "outputs": [
        {
          "output_type": "stream",
          "name": "stdout",
          "text": [
            "Looking in indexes: https://pypi.org/simple, https://us-python.pkg.dev/colab-wheels/public/simple/\n",
            "Requirement already satisfied: tabulate in /usr/local/lib/python3.7/dist-packages (0.8.10)\n"
          ]
        }
      ],
      "source": [
        "!pip install tabulate"
      ]
    },
    {
      "cell_type": "code",
      "execution_count": null,
      "metadata": {
        "id": "hy_HX25mqo-B"
      },
      "outputs": [],
      "source": [
        "import uproot\n",
        "import numpy as np\n",
        "import matplotlib.pyplot as plt\n",
        "from tabulate import tabulate"
      ]
    },
    {
      "cell_type": "code",
      "execution_count": null,
      "metadata": {
        "id": "Ox0cNTwsq5Wc"
      },
      "outputs": [],
      "source": [
        "from google.colab import drive\n",
        "drive.mount('/content/drive')"
      ]
    },
    {
      "cell_type": "code",
      "execution_count": null,
      "metadata": {
        "id": "6wjEahJwqsSZ"
      },
      "outputs": [],
      "source": [
        "particles_file = uproot.open(\"/content/drive/MyDrive/IRIS-HEP_DFEI/particles_data.root\")\n",
        "relations_file = uproot.open(\"/content/drive/MyDrive/IRIS-HEP_DFEI/relations_data.root\")"
      ]
    },
    {
      "cell_type": "code",
      "execution_count": null,
      "metadata": {
        "id": "pX9kSXpsrTkP"
      },
      "outputs": [],
      "source": [
        "particles_file.keys()"
      ]
    },
    {
      "cell_type": "code",
      "execution_count": null,
      "metadata": {
        "id": "slowf1jhgoZI"
      },
      "outputs": [],
      "source": [
        "relations_file.keys()"
      ]
    },
    {
      "cell_type": "code",
      "execution_count": null,
      "metadata": {
        "id": "78WvV7eZrtRa"
      },
      "outputs": [],
      "source": [
        "# df_particles_2 = particles_file['Particles;2'].arrays(library=\"pd\")\n",
        "df_particles_3 = particles_file['Particles'].arrays(library=\"pd\")\n",
        "\n",
        "# df_relations_138 = relations_file['ParticleRelations;138'].arrays(library='np')\n",
        "# df_relations_137 = relations_file['ParticleRelations;137'].arrays(library='np')"
      ]
    },
    {
      "cell_type": "code",
      "execution_count": null,
      "metadata": {
        "id": "SgasmzNzv3x6"
      },
      "outputs": [],
      "source": [
        "df_particles_3['Prob_p']"
      ]
    },
    {
      "cell_type": "code",
      "execution_count": null,
      "metadata": {
        "id": "7HGRd7OykWZJ"
      },
      "outputs": [],
      "source": [
        "def print_table_of_column_statics(column):\n",
        "\n",
        "  table = [['mean', round(column.mean(), 2)],\n",
        "           ['std', round(column.std(), 2)],\n",
        "           ['min', round(column.min(), 2)],\n",
        "           ['1%', round(column.quantile(q=0.01), 2)],\n",
        "           ['median', round(column.median(), 2)],\n",
        "           ['99%', round(column.quantile(q=0.99), 2)],\n",
        "           ['max', round(column.max(), 2)]]\n",
        "\n",
        "  print(tabulate(table))"
      ]
    },
    {
      "cell_type": "code",
      "execution_count": null,
      "metadata": {
        "id": "GwFRpwpP98xv"
      },
      "outputs": [],
      "source": [
        "def describe_column(column, trancate_x_axis=False, fraction_to_trancate=0.01):\n",
        "\n",
        "  print(column.name)\n",
        "  print_table_of_column_statics(column)\n",
        "\n",
        "  if trancate_x_axis:\n",
        "    x_left_lim = 0 if column.min() == 0.0 else round(column.quantile(q=fraction_to_trancate), 2)\n",
        "    x_right_lim = 0 if column.max() == 0.0 else round(column.quantile(q=1-fraction_to_trancate), 2)\n",
        "    range=(x_left_lim, x_right_lim)\n",
        "  else:\n",
        "    range=None\n",
        "\n",
        "  column.plot(kind='hist', weights=np.array([1/column.count()]*column.count()), range=range, bins=100, title=column.name)\n",
        "  plt.show()\n",
        "  print()"
      ]
    },
    {
      "cell_type": "code",
      "execution_count": null,
      "metadata": {
        "id": "b-Mi-39FmvAw"
      },
      "outputs": [],
      "source": [
        "df_particles_3['ip']"
      ]
    },
    {
      "cell_type": "code",
      "execution_count": null,
      "metadata": {
        "id": "SZfDf31hm0hh"
      },
      "outputs": [],
      "source": [
        "columns_to_be_trancated = ['associated_ip_reco', 'associated_xPV_reco', 'associated_yPV_reco', 'associated_zPV_reco', 'pt_reco', 'px_reco', 'py_reco', 'pz_reco', 'xPV_reco', 'yPV_reco',  'zPV_reco', 'xProd_reco', 'yProd_reco', 'zProd_reco']"
      ]
    },
    {
      "cell_type": "code",
      "execution_count": null,
      "metadata": {
        "id": "Q5kaUaZ6oFqe"
      },
      "outputs": [],
      "source": [
        "columns_not_to_be_trancated = ['ParticleType', 'charge', 'inGeomAcc', 'isCharged']"
      ]
    },
    {
      "cell_type": "code",
      "execution_count": null,
      "metadata": {
        "id": "-578ckwwoKuX"
      },
      "outputs": [],
      "source": [
        "weird_columns = ['ip_reco', 'NumVisDaugh', 'Prob_K', 'Prob_e', 'Prob_gamma', 'Prob_mu', 'Prob_p', 'Prob_pi', 'Prob_pi0', 'TriggerKey', 'gammactau', 'ip', 'isFinal', 'isbhadron', 'ischadron']\n",
        "same_as_to_be_trancated_but_without_reco = ['associated_ip', 'associated_xPV', 'associated_yPV', 'associated_zPV', 'pt', 'px', 'py', 'pz', 'xPV', 'yPV', 'zPV', 'xProd', 'yProd', 'zProd']"
      ]
    },
    {
      "cell_type": "code",
      "execution_count": null,
      "metadata": {
        "id": "oS8c1GLE6l1G"
      },
      "outputs": [],
      "source": [
        "# compare distributions of columns with and without \"_reco\"\n",
        "\n",
        "for column_name_1, column_name_2 in zip(columns_to_be_trancated, same_as_to_be_trancated_but_without_reco):\n",
        "  column_1 = df_particles_3[column_name_1]\n",
        "  column_2 = df_particles_3[column_name_2]\n",
        "  describe_column(column_1, trancate_x_axis=True)\n",
        "  describe_column(column_2, trancate_x_axis=True)\n",
        "  print('\\n'*3)"
      ]
    },
    {
      "cell_type": "code",
      "execution_count": null,
      "metadata": {
        "id": "AQypOPVVDrk_"
      },
      "outputs": [],
      "source": [
        "# distributions of discrete variables \n",
        "\n",
        "for column_name in columns_not_to_be_trancated:\n",
        "  column = df_particles_3[column_name]\n",
        "  describe_column(column)"
      ]
    },
    {
      "cell_type": "code",
      "execution_count": null,
      "metadata": {
        "id": "7p2iLnBiIE0C"
      },
      "outputs": [],
      "source": [
        "for column_name in weird_columns:\n",
        "  column = df_particles_3[column_name]\n",
        "  describe_column(column)"
      ]
    }
  ],
  "metadata": {
    "colab": {
      "provenance": [],
      "machine_shape": "hm",
      "collapsed_sections": []
    },
    "kernelspec": {
      "display_name": "Python 3",
      "name": "python3"
    },
    "language_info": {
      "name": "python"
    },
    "gpuClass": "standard"
  },
  "nbformat": 4,
  "nbformat_minor": 0
}